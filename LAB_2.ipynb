{
 "cells": [
  {
   "cell_type": "markdown",
   "metadata": {
    "colab_type": "text",
    "id": "view-in-github"
   },
   "source": [
    "<a href=\"https://colab.research.google.com/github/souravs17031999/UML602-NLP/blob/master/LAB_2.ipynb\" target=\"_parent\"><img src=\"https://colab.research.google.com/assets/colab-badge.svg\" alt=\"Open In Colab\"/></a>"
   ]
  },
  {
   "cell_type": "markdown",
   "metadata": {
    "colab_type": "text",
    "id": "FOM6aqlRwNbi"
   },
   "source": [
    "# ASSIGNMENT - 2 \n",
    "### @ name : sourav kumar\n",
    "### @ roll no. : 101883068\n",
    "### @ COE-5"
   ]
  },
  {
   "cell_type": "markdown",
   "metadata": {},
   "source": [
    "#### Importing required packages"
   ]
  },
  {
   "cell_type": "code",
   "execution_count": 1,
   "metadata": {
    "colab": {
     "base_uri": "https://localhost:8080/",
     "height": 124
    },
    "colab_type": "code",
    "id": "c9BKmq7zqpk_",
    "outputId": "ed9ff21f-7f8b-45b4-c1e5-851e21ec7654",
    "scrolled": true
   },
   "outputs": [
    {
     "name": "stdout",
     "output_type": "stream",
     "text": [
      "*** Introductory Examples for the NLTK Book ***\n",
      "Loading text1, ..., text9 and sent1, ..., sent9\n",
      "Type the name of the text or sentence to view it.\n",
      "Type: 'texts()' or 'sents()' to list the materials.\n",
      "text1: Moby Dick by Herman Melville 1851\n",
      "text2: Sense and Sensibility by Jane Austen 1811\n",
      "text3: The Book of Genesis\n",
      "text4: Inaugural Address Corpus\n",
      "text5: Chat Corpus\n",
      "text6: Monty Python and the Holy Grail\n",
      "text7: Wall Street Journal\n",
      "text8: Personals Corpus\n",
      "text9: The Man Who Was Thursday by G . K . Chesterton 1908\n"
     ]
    },
    {
     "name": "stderr",
     "output_type": "stream",
     "text": [
      "[nltk_data] Downloading package brown to\n",
      "[nltk_data]     C:\\Users\\DELL\\AppData\\Roaming\\nltk_data...\n",
      "[nltk_data]   Package brown is already up-to-date!\n",
      "[nltk_data] Downloading package inaugural to\n",
      "[nltk_data]     C:\\Users\\DELL\\AppData\\Roaming\\nltk_data...\n",
      "[nltk_data]   Package inaugural is already up-to-date!\n",
      "[nltk_data] Downloading package state_union to\n",
      "[nltk_data]     C:\\Users\\DELL\\AppData\\Roaming\\nltk_data...\n"
     ]
    },
    {
     "name": "stdout",
     "output_type": "stream",
     "text": [
      "Importing packages...\n"
     ]
    },
    {
     "name": "stderr",
     "output_type": "stream",
     "text": [
      "[nltk_data]   Package state_union is already up-to-date!\n"
     ]
    }
   ],
   "source": [
    "import nltk\n",
    "from nltk import *\n",
    "from nltk.book import *\n",
    "import string\n",
    "nltk.download('brown')\n",
    "nltk.download('inaugural')\n",
    "nltk.download('state_union')\n",
    "print(\"Importing packages...\")\n",
    "from nltk.corpus import brown\n",
    "from nltk.corpus import inaugural\n",
    "from nltk.corpus import state_union"
   ]
  },
  {
   "cell_type": "code",
   "execution_count": 2,
   "metadata": {},
   "outputs": [
    {
     "name": "stdout",
     "output_type": "stream",
     "text": [
      "All packages imported !\n"
     ]
    }
   ],
   "source": [
    "print(\"All packages imported !\")"
   ]
  },
  {
   "cell_type": "code",
   "execution_count": 3,
   "metadata": {},
   "outputs": [
    {
     "name": "stdout",
     "output_type": "stream",
     "text": [
      "Checking the brown corpus categories...\n"
     ]
    }
   ],
   "source": [
    "print(\"Checking the brown corpus categories...\")"
   ]
  },
  {
   "cell_type": "code",
   "execution_count": 4,
   "metadata": {
    "colab": {
     "base_uri": "https://localhost:8080/",
     "height": 284
    },
    "colab_type": "code",
    "id": "Fyi8FKBYpVLx",
    "outputId": "e0a85147-4888-49c2-c14e-7e34ccd93fba"
   },
   "outputs": [
    {
     "data": {
      "text/plain": [
       "['adventure',\n",
       " 'belles_lettres',\n",
       " 'editorial',\n",
       " 'fiction',\n",
       " 'government',\n",
       " 'hobbies',\n",
       " 'humor',\n",
       " 'learned',\n",
       " 'lore',\n",
       " 'mystery',\n",
       " 'news',\n",
       " 'religion',\n",
       " 'reviews',\n",
       " 'romance',\n",
       " 'science_fiction']"
      ]
     },
     "execution_count": 4,
     "metadata": {},
     "output_type": "execute_result"
    }
   ],
   "source": [
    "brown.categories()"
   ]
  },
  {
   "cell_type": "markdown",
   "metadata": {},
   "source": [
    "### Q1"
   ]
  },
  {
   "cell_type": "code",
   "execution_count": 5,
   "metadata": {
    "colab": {
     "base_uri": "https://localhost:8080/",
     "height": 35
    },
    "colab_type": "code",
    "id": "NHdJ55jwqxYp",
    "outputId": "0aef4494-f384-47c7-a8e0-20c01049522a"
   },
   "outputs": [
    {
     "name": "stdout",
     "output_type": "stream",
     "text": [
      "Q1\n",
      "12478\n"
     ]
    }
   ],
   "source": [
    "print(\"Q1\")\n",
    "count_wh = 0\n",
    "for i in brown.words():\n",
    "    if i.startswith('wh'):\n",
    "        count_wh += 1\n",
    "\n",
    "print(count_wh)"
   ]
  },
  {
   "cell_type": "markdown",
   "metadata": {},
   "source": [
    "### Q2"
   ]
  },
  {
   "cell_type": "code",
   "execution_count": 6,
   "metadata": {
    "colab": {},
    "colab_type": "code",
    "id": "0ApamACfruaD"
   },
   "outputs": [
    {
     "name": "stdout",
     "output_type": "stream",
     "text": [
      "Q2\n"
     ]
    }
   ],
   "source": [
    "print(\"Q2\")\n",
    "modals = ['can', 'could', 'may', 'might', 'must', 'will']\n",
    "all_words = brown.words()\n",
    "f_dist = FreqDist([w.lower() for w in all_words])"
   ]
  },
  {
   "cell_type": "code",
   "execution_count": 7,
   "metadata": {
    "colab": {
     "base_uri": "https://localhost:8080/",
     "height": 124
    },
    "colab_type": "code",
    "id": "lr6pKDO5tCUE",
    "outputId": "d5423557-aca7-45a3-c606-bb9a5b852f1f"
   },
   "outputs": [
    {
     "name": "stdout",
     "output_type": "stream",
     "text": [
      "can : 1772\n",
      "could : 1601\n",
      "may : 1402\n",
      "might : 672\n",
      "must : 1013\n",
      "will : 2245\n"
     ]
    }
   ],
   "source": [
    "for i in modals:\n",
    "    print(f\"{i} : {f_dist[i]}\")"
   ]
  },
  {
   "cell_type": "code",
   "execution_count": 8,
   "metadata": {
    "colab": {},
    "colab_type": "code",
    "id": "lzxVMkHytRsU"
   },
   "outputs": [],
   "source": [
    "cfd = ConditionalFreqDist(\n",
    "    (genre, word)\n",
    "    for genre in brown.categories()\n",
    "    for word in brown.words(categories=genre)\n",
    ")"
   ]
  },
  {
   "cell_type": "code",
   "execution_count": 9,
   "metadata": {
    "colab": {
     "base_uri": "https://localhost:8080/",
     "height": 301
    },
    "colab_type": "code",
    "id": "DT7sghIruUvb",
    "outputId": "4dacb1a3-9dc0-4ef0-b11d-ed4c50dd3190"
   },
   "outputs": [
    {
     "name": "stdout",
     "output_type": "stream",
     "text": [
      "                  can could   may might  must  will \n",
      "      adventure    46   151     5    58    27    50 \n",
      " belles_lettres   246   213   207   113   170   236 \n",
      "      editorial   121    56    74    39    53   233 \n",
      "        fiction    37   166     8    44    55    52 \n",
      "     government   117    38   153    13   102   244 \n",
      "        hobbies   268    58   131    22    83   264 \n",
      "          humor    16    30     8     8     9    13 \n",
      "        learned   365   159   324   128   202   340 \n",
      "           lore   170   141   165    49    96   175 \n",
      "        mystery    42   141    13    57    30    20 \n",
      "           news    93    86    66    38    50   389 \n",
      "       religion    82    59    78    12    54    71 \n",
      "        reviews    45    40    45    26    19    58 \n",
      "        romance    74   193    11    51    45    43 \n",
      "science_fiction    16    49     4    12     8    16 \n"
     ]
    }
   ],
   "source": [
    "cfd.tabulate(samples=modals)"
   ]
  },
  {
   "cell_type": "markdown",
   "metadata": {},
   "source": [
    "### Q3"
   ]
  },
  {
   "cell_type": "code",
   "execution_count": 10,
   "metadata": {
    "colab": {},
    "colab_type": "code",
    "id": "eScUWUC9ursE"
   },
   "outputs": [
    {
     "name": "stdout",
     "output_type": "stream",
     "text": [
      "Q3\n"
     ]
    }
   ],
   "source": [
    "print(\"Q3\")\n",
    "import re\n",
    "years = [re.findall('[0-9]+', x) for x in inaugural.fileids()]"
   ]
  },
  {
   "cell_type": "code",
   "execution_count": 11,
   "metadata": {},
   "outputs": [
    {
     "name": "stdout",
     "output_type": "stream",
     "text": [
      "[['1789'], ['1793'], ['1797'], ['1801'], ['1805'], ['1809'], ['1813'], ['1817'], ['1821'], ['1825'], ['1829'], ['1833'], ['1837'], ['1841'], ['1845'], ['1849'], ['1853'], ['1857'], ['1861'], ['1865'], ['1869'], ['1873'], ['1877'], ['1881'], ['1885'], ['1889'], ['1893'], ['1897'], ['1901'], ['1905'], ['1909'], ['1913'], ['1917'], ['1921'], ['1925'], ['1929'], ['1933'], ['1937'], ['1941'], ['1945'], ['1949'], ['1953'], ['1957'], ['1961'], ['1965'], ['1969'], ['1973'], ['1977'], ['1981'], ['1985'], ['1989'], ['1993'], ['1997'], ['2001'], ['2005'], ['2009'], ['2013'], ['2017']]\n"
     ]
    }
   ],
   "source": [
    "print(years)"
   ]
  },
  {
   "cell_type": "markdown",
   "metadata": {},
   "source": [
    "### Q4"
   ]
  },
  {
   "cell_type": "code",
   "execution_count": 12,
   "metadata": {
    "colab": {},
    "colab_type": "code",
    "id": "vjgdoLYMyoM4"
   },
   "outputs": [
    {
     "name": "stdout",
     "output_type": "stream",
     "text": [
      "Q4\n"
     ]
    }
   ],
   "source": [
    "print(\"Q4\")\n",
    "cfd = nltk.ConditionalFreqDist(\n",
    "    (target, fileid[:4])\n",
    "    for fileid in state_union.fileids()\n",
    "    for w in state_union.words(fileid)\n",
    "    for target in ['men', 'women', 'people']\n",
    "    if w.lower() == target)\n"
   ]
  },
  {
   "cell_type": "code",
   "execution_count": 13,
   "metadata": {
    "colab": {
     "base_uri": "https://localhost:8080/",
     "height": 108
    },
    "colab_type": "code",
    "id": "6zE9WNBsythO",
    "outputId": "0f9503d1-c6ca-4e64-e65f-be2c320c8fea"
   },
   "outputs": [
    {
     "name": "stdout",
     "output_type": "stream",
     "text": [
      "       1945 1946 1947 1948 1949 1950 1951 1953 1954 1955 1956 1957 1958 1959 1960 1961 1962 1963 1964 1965 1966 1967 1968 1969 1970 1971 1972 1973 1974 1975 1976 1977 1978 1979 1980 1981 1982 1983 1984 1985 1986 1987 1988 1989 1990 1991 1992 1993 1994 1995 1996 1997 1998 1999 2000 2001 2002 2003 2004 2005 2006 \n",
      "   men    2   12    7    5    2    6    8    3    2    4    2    5    2    4    2    6    6    8    3   19   12   11    4    5    2    1    1    1    0    0    3    2    0    0    1    1    1    3    3    1    2    1    1    2    3    9    4    1    1    1    2    1    2    2    5    4    3    6    7    8    7 \n",
      "people   10   49   12   22   15   15   10   17   15   26   30   11   19   11   10   10   10   15    3   30   35   25   17    6   23   32    7    9   20   14   18   19   26   15   12   11   17   19   27   12   14   24   17   13    9   27   27   45   66   73   43   31   22   22   41   27   14   33   21   18   22 \n",
      " women    2    7    2    1    1    2    2    0    0    0    2    2    1    1    0    0    2    5    1    3    1    1    0    2    0    0    0    0    0    0    1    1    1    1    2    1    2    7    5    1    2    0    0    3    2    9    4    2    1    3    3    2    2    3    7    6    6    4    8   11    7 \n",
      "None\n"
     ]
    }
   ],
   "source": [
    "print(cfd.tabulate())"
   ]
  },
  {
   "cell_type": "code",
   "execution_count": 14,
   "metadata": {
    "colab": {
     "base_uri": "https://localhost:8080/",
     "height": 295
    },
    "colab_type": "code",
    "id": "r5RAX_LOzMkl",
    "outputId": "0a3418b0-3c4d-400c-8282-2b5ea59637d2",
    "scrolled": true
   },
   "outputs": [
    {
     "data": {
      "text/plain": [
       "<Figure size 640x480 with 1 Axes>"
      ]
     },
     "metadata": {},
     "output_type": "display_data"
    },
    {
     "data": {
      "text/plain": [
       "<matplotlib.axes._subplots.AxesSubplot at 0x18047944588>"
      ]
     },
     "execution_count": 14,
     "metadata": {},
     "output_type": "execute_result"
    }
   ],
   "source": [
    "cfd.plot()"
   ]
  },
  {
   "cell_type": "markdown",
   "metadata": {},
   "source": [
    "### Q5"
   ]
  },
  {
   "cell_type": "code",
   "execution_count": 15,
   "metadata": {},
   "outputs": [
    {
     "name": "stdout",
     "output_type": "stream",
     "text": [
      "Q5\n",
      "Studying texts from brown corpus for news and religion category...\n"
     ]
    }
   ],
   "source": [
    "print(\"Q5\")\n",
    "print(\"Studying texts from brown corpus for news and religion category...\")\n",
    "news = brown.words(categories='news')\n",
    "religion = brown.words(categories='religion')"
   ]
  },
  {
   "cell_type": "code",
   "execution_count": 16,
   "metadata": {},
   "outputs": [
    {
     "name": "stdout",
     "output_type": "stream",
     "text": [
      "vocab size of news : 100554\n",
      "vocab size of religion : 39399\n"
     ]
    }
   ],
   "source": [
    "print(f\"vocab size of news : {len([w.lower() for w in news])}\")\n",
    "print(f\"vocab size of religion : {len([w.lower() for w in religion])}\")"
   ]
  },
  {
   "cell_type": "code",
   "execution_count": 17,
   "metadata": {},
   "outputs": [
    {
     "name": "stdout",
     "output_type": "stream",
     "text": [
      "lexical diversity of news : 6.98582742809504\n",
      "lexical diversity of religion : 6.182174799937235\n"
     ]
    }
   ],
   "source": [
    "print(f\"lexical diversity of news : {len(news)/len(set(news))}\")\n",
    "print(f\"lexical diversity of religion : {len(religion)/len(set(religion))}\")"
   ]
  },
  {
   "cell_type": "code",
   "execution_count": 18,
   "metadata": {},
   "outputs": [
    {
     "name": "stdout",
     "output_type": "stream",
     "text": [
      "Displaying 5 of 5 matches:\n",
      "s and give more to such countries as India . India is the most populous United \n",
      "ve more to such countries as India . India is the most populous United Nations \n",
      " . Then Japan , Hong Kong , Manila , India , Pakistan , Damascus , Beirut , and\n",
      " 19,000 , including about 5,000 from India and a few soldiers from Eire and Swe\n",
      "f textiles to the U.S. . Hong Kong , India and Pakistan have been limiting expo\n"
     ]
    }
   ],
   "source": [
    "nltk.Text(news).concordance('india')"
   ]
  },
  {
   "cell_type": "code",
   "execution_count": 19,
   "metadata": {},
   "outputs": [
    {
     "name": "stdout",
     "output_type": "stream",
     "text": [
      "Displaying 5 of 5 matches:\n",
      "Massacres attending the partition of India and the establishment of the State o\n",
      "ts 800,000 Roman Catholics . Again , India has imposed formidable barriers agai\n",
      "igions themselves . The partition of India has hardly improved relations betwee\n",
      "eplied the other , `` I set out from India '' . `` Why '' , said the teacher , \n",
      "ter some palm leaves he brought from India , went back through the air . ( 2 ) \n"
     ]
    }
   ],
   "source": [
    "nltk.Text(religion).concordance('india')"
   ]
  },
  {
   "cell_type": "markdown",
   "metadata": {},
   "source": [
    "### Q6"
   ]
  },
  {
   "cell_type": "code",
   "execution_count": 20,
   "metadata": {
    "colab": {},
    "colab_type": "code",
    "id": "fT4oaN9T8MAk"
   },
   "outputs": [
    {
     "name": "stdout",
     "output_type": "stream",
     "text": [
      "Q6\n"
     ]
    }
   ],
   "source": [
    "print(\"Q6\")\n",
    "f_dist_brown = FreqDist([w.lower() for w in brown.words()])\n",
    "required_words = []\n",
    "for i, j in f_dist_brown.items():\n",
    "    if j >= 3:\n",
    "        required_words.append(i)"
   ]
  },
  {
   "cell_type": "code",
   "execution_count": 21,
   "metadata": {
    "scrolled": true
   },
   "outputs": [
    {
     "name": "stdout",
     "output_type": "stream",
     "text": [
      "printing some words which occured at least 3 times... \n",
      "['the', 'fulton', 'county', 'grand', 'jury', 'said', 'friday', 'an', 'investigation', 'of', \"atlanta's\", 'recent', 'primary', 'election', 'produced', '``', 'no', 'evidence', \"''\", 'that', 'any', 'irregularities', 'took', 'place', '.', 'further', 'in', 'city', 'executive', 'committee']...\n",
      "\n",
      "Printing some words which occured at least 3 times after removal of stop words...\n",
      "['fulton', 'county', 'grand', 'jury', 'said', 'friday', 'investigation', \"atlanta's\", 'recent', 'primary', 'election', 'produced', '``', 'evidence', \"''\", 'irregularities', 'took', 'place', '.', 'city', 'executive', 'committee', ',', 'over-all', 'charge', 'deserves', 'praise', 'thanks', 'atlanta', 'manner', 'conducted', 'term', 'charged', 'superior', 'court']\n"
     ]
    }
   ],
   "source": [
    "print(f\"printing some words which occured at least 3 times... \")\n",
    "print(f\"{required_words[:30]}...\")\n",
    "print()\n",
    "print(f\"Printing some words which occured at least 3 times after removal of stop words...\")\n",
    "stopwords = nltk.corpus.stopwords.words('english')\n",
    "print([w for w in required_words[:50] if w.lower() not in stopwords])"
   ]
  },
  {
   "cell_type": "markdown",
   "metadata": {},
   "source": [
    "### Q7"
   ]
  },
  {
   "cell_type": "code",
   "execution_count": 22,
   "metadata": {},
   "outputs": [
    {
     "name": "stdout",
     "output_type": "stream",
     "text": [
      "Q7\n"
     ]
    }
   ],
   "source": [
    "print(\"Q7\")\n",
    "def ldt(corpus):\n",
    "    cfd = nltk.ConditionalFreqDist(\n",
    "        (genre, len(corpus.words(categories=genre))/len(set(corpus.words(categories=genre))))\n",
    "        for genre in corpus.categories()\n",
    "        )\n",
    "\n",
    "    print(cfd.tabulate())\n",
    "    cfd.plot()"
   ]
  },
  {
   "cell_type": "code",
   "execution_count": 23,
   "metadata": {},
   "outputs": [
    {
     "name": "stdout",
     "output_type": "stream",
     "text": [
      "                 4.324297388877816  4.475719146303742  4.718757245536749  6.182174799937235   6.22891809908999  6.899455383326351   6.98582742809504  7.362717695119329   7.60525408536165  7.814063556457065  8.188054998567745  8.284666351159489  8.570712626818237  9.396666847619565 10.788777507562726 \n",
      "      adventure                  0                  0                  0                  0                  0                  0                  0                  0                  0                  1                  0                  0                  0                  0                  0 \n",
      " belles_lettres                  0                  0                  0                  0                  0                  0                  0                  0                  0                  0                  0                  0                  0                  1                  0 \n",
      "      editorial                  0                  0                  0                  0                  1                  0                  0                  0                  0                  0                  0                  0                  0                  0                  0 \n",
      "        fiction                  0                  0                  0                  0                  0                  0                  0                  1                  0                  0                  0                  0                  0                  0                  0 \n",
      "     government                  0                  0                  0                  0                  0                  0                  0                  0                  0                  0                  0                  0                  1                  0                  0 \n",
      "        hobbies                  0                  0                  0                  0                  0                  1                  0                  0                  0                  0                  0                  0                  0                  0                  0 \n",
      "          humor                  1                  0                  0                  0                  0                  0                  0                  0                  0                  0                  0                  0                  0                  0                  0 \n",
      "        learned                  0                  0                  0                  0                  0                  0                  0                  0                  0                  0                  0                  0                  0                  0                  1 \n",
      "           lore                  0                  0                  0                  0                  0                  0                  0                  0                  1                  0                  0                  0                  0                  0                  0 \n",
      "        mystery                  0                  0                  0                  0                  0                  0                  0                  0                  0                  0                  1                  0                  0                  0                  0 \n",
      "           news                  0                  0                  0                  0                  0                  0                  1                  0                  0                  0                  0                  0                  0                  0                  0 \n",
      "       religion                  0                  0                  0                  1                  0                  0                  0                  0                  0                  0                  0                  0                  0                  0                  0 \n",
      "        reviews                  0                  0                  1                  0                  0                  0                  0                  0                  0                  0                  0                  0                  0                  0                  0 \n",
      "        romance                  0                  0                  0                  0                  0                  0                  0                  0                  0                  0                  0                  1                  0                  0                  0 \n",
      "science_fiction                  0                  1                  0                  0                  0                  0                  0                  0                  0                  0                  0                  0                  0                  0                  0 \n",
      "None\n"
     ]
    },
    {
     "data": {
      "image/png": "[encoded data removed]",
      "text/plain": [
       "<Figure size 432x288 with 1 Axes>"
      ]
     },
     "metadata": {
      "needs_background": "light"
     },
     "output_type": "display_data"
    }
   ],
   "source": [
    "ldt(brown)"
   ]
  },
  {
   "cell_type": "code",
   "execution_count": 24,
   "metadata": {
    "colab": {
     "base_uri": "https://localhost:8080/",
     "height": 240
    },
    "colab_type": "code",
    "id": "_BWjj5629m8o",
    "outputId": "f3927feb-68f2-4290-adda-09f06a183ba6"
   },
   "outputs": [
    {
     "name": "stdout",
     "output_type": "stream",
     "text": [
      "Q8\n",
      "Printing 50 most frequent words for text1 after removing stopwords and punctuation...\n"
     ]
    }
   ],
   "source": [
    "print(\"Q8\")\n",
    "print(\"Printing 50 most frequent words for text1 after removing stopwords and punctuation...\")\n",
    "def most_frequent(text):\n",
    "    list_without_stop = [w for w in text if w.lower() not in stopwords and w.lower() not in string.punctuation]\n",
    "    f_dist = nltk.probability.FreqDist(list_without_stop)\n",
    "    return sorted(f_dist, key=f_dist.get, reverse=True)"
   ]
  },
  {
   "cell_type": "code",
   "execution_count": 25,
   "metadata": {},
   "outputs": [
    {
     "name": "stdout",
     "output_type": "stream",
     "text": [
      "['--', 'whale', 'one', 'like', 'upon', 'man', 'ship', 'Ahab', '.\"', 'ye', 'old', 'sea', 'would', 'head', 'though', 'boat', 'time', 'long', 'said', ',\"', 'yet', 'still', 'great', 'two', 'seemed', 'must', 'Whale', 'last', 'way', 'Stubb', 'see', '?\"', 'Queequeg', 'little', 'round', 'whales', 'say', 'three', 'men', 'thou', 'may', 'us', 'every', 'much', 'could', 'Captain', 'first', 'side', 'hand', 'ever']\n"
     ]
    }
   ],
   "source": [
    "print(most_frequent(text1)[:50])"
   ]
  }
 ],
 "metadata": {
  "colab": {
   "authorship_tag": "ABX9TyNnWoVf4SrwR3+oMa0WFbyQ",
   "include_colab_link": true,
   "name": "LAB_2.ipynb",
   "provenance": []
  },
  "kernelspec": {
   "display_name": "Python 3",
   "language": "python",
   "name": "python3"
  },
  "language_info": {
   "codemirror_mode": {
    "name": "ipython",
    "version": 3
   },
   "file_extension": ".py",
   "mimetype": "text/x-python",
   "name": "python",
   "nbconvert_exporter": "python",
   "pygments_lexer": "ipython3",
   "version": "3.7.0b5"
  }
 },
 "nbformat": 4,
 "nbformat_minor": 1
}
