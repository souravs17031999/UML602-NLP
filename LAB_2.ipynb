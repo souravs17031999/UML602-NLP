{
  "nbformat": 4,
  "nbformat_minor": 0,
  "metadata": {
    "colab": {
      "name": "LAB_2.ipynb",
      "provenance": [],
      "authorship_tag": "ABX9TyOhpDwlwiwCRYkXwV/URSAG",
      "include_colab_link": true
    },
    "kernelspec": {
      "name": "python3",
      "display_name": "Python 3"
    }
  },
  "cells": [
    {
      "cell_type": "markdown",
      "metadata": {
        "id": "view-in-github",
        "colab_type": "text"
      },
      "source": [
        "<a href=\"https://colab.research.google.com/github/souravs17031999/UML602-NLP/blob/master/LAB_2.ipynb\" target=\"_parent\"><img src=\"https://colab.research.google.com/assets/colab-badge.svg\" alt=\"Open In Colab\"/></a>"
      ]
    },
    {
      "cell_type": "markdown",
      "metadata": {
        "id": "FOM6aqlRwNbi",
        "colab_type": "text"
      },
      "source": [
        "# ASSIGNMENT - 2 \n",
        "### @ name : sourav kumar\n",
        "### @ roll no. : 101883068\n",
        "### @ COE-5"
      ]
    },
    {
      "cell_type": "code",
      "metadata": {
        "id": "c9BKmq7zqpk_",
        "colab_type": "code",
        "colab": {
          "base_uri": "https://localhost:8080/",
          "height": 124
        },
        "outputId": "e370e166-87c9-420f-b935-6b59633f0c88"
      },
      "source": [
        "import nltk\n",
        "nltk.download('brown')\n",
        "nltk.download('inaugural')\n",
        "nltk.download('state_union')\n",
        "from nltk.corpus import brown\n",
        "from nltk.corpus import inaugural\n",
        "from nltk.corpus import state_union"
      ],
      "execution_count": 37,
      "outputs": [
        {
          "output_type": "stream",
          "text": [
            "[nltk_data] Downloading package brown to /root/nltk_data...\n",
            "[nltk_data]   Package brown is already up-to-date!\n",
            "[nltk_data] Downloading package inaugural to /root/nltk_data...\n",
            "[nltk_data]   Package inaugural is already up-to-date!\n",
            "[nltk_data] Downloading package state_union to /root/nltk_data...\n",
            "[nltk_data]   Package state_union is already up-to-date!\n"
          ],
          "name": "stdout"
        }
      ]
    },
    {
      "cell_type": "code",
      "metadata": {
        "id": "Fyi8FKBYpVLx",
        "colab_type": "code",
        "colab": {
          "base_uri": "https://localhost:8080/",
          "height": 284
        },
        "outputId": "f1965e7b-e026-4c28-c7b4-6d2b3d1c1315"
      },
      "source": [
        "brown.categories()"
      ],
      "execution_count": 10,
      "outputs": [
        {
          "output_type": "execute_result",
          "data": {
            "text/plain": [
              "['adventure',\n",
              " 'belles_lettres',\n",
              " 'editorial',\n",
              " 'fiction',\n",
              " 'government',\n",
              " 'hobbies',\n",
              " 'humor',\n",
              " 'learned',\n",
              " 'lore',\n",
              " 'mystery',\n",
              " 'news',\n",
              " 'religion',\n",
              " 'reviews',\n",
              " 'romance',\n",
              " 'science_fiction']"
            ]
          },
          "metadata": {
            "tags": []
          },
          "execution_count": 10
        }
      ]
    },
    {
      "cell_type": "code",
      "metadata": {
        "id": "NHdJ55jwqxYp",
        "colab_type": "code",
        "colab": {
          "base_uri": "https://localhost:8080/",
          "height": 35
        },
        "outputId": "511fd7bc-2cb7-42e6-b82f-9da42f01b156"
      },
      "source": [
        "count_wh = 0\n",
        "for i in brown.words():\n",
        "  if i.startswith('wh'):\n",
        "    count_wh += 1\n",
        "\n",
        "print(count_wh)"
      ],
      "execution_count": 16,
      "outputs": [
        {
          "output_type": "stream",
          "text": [
            "12478\n"
          ],
          "name": "stdout"
        }
      ]
    },
    {
      "cell_type": "code",
      "metadata": {
        "id": "0ApamACfruaD",
        "colab_type": "code",
        "colab": {}
      },
      "source": [
        "modals = ['can', 'could', 'may', 'might', 'must', 'will']\n",
        "all_words = brown.words()\n",
        "f_dist = FreqDist([w.lower() for w in all_words])\n"
      ],
      "execution_count": 0,
      "outputs": []
    },
    {
      "cell_type": "code",
      "metadata": {
        "id": "lr6pKDO5tCUE",
        "colab_type": "code",
        "colab": {
          "base_uri": "https://localhost:8080/",
          "height": 124
        },
        "outputId": "4dde3e87-0bce-4a72-8fd6-facdb4de1246"
      },
      "source": [
        "for i in modals:\n",
        "  print(f\"{i} : {f_dist[i]}\")"
      ],
      "execution_count": 20,
      "outputs": [
        {
          "output_type": "stream",
          "text": [
            "can : 1772\n",
            "could : 1601\n",
            "may : 1402\n",
            "might : 672\n",
            "must : 1013\n",
            "will : 2245\n"
          ],
          "name": "stdout"
        }
      ]
    },
    {
      "cell_type": "code",
      "metadata": {
        "id": "lzxVMkHytRsU",
        "colab_type": "code",
        "colab": {}
      },
      "source": [
        "cfd = ConditionalFreqDist(\n",
        "    (genre, word)\n",
        "    for genre in brown.categories()\n",
        "    for word in brown.words(categories=genre)\n",
        ")"
      ],
      "execution_count": 0,
      "outputs": []
    },
    {
      "cell_type": "code",
      "metadata": {
        "id": "DT7sghIruUvb",
        "colab_type": "code",
        "colab": {
          "base_uri": "https://localhost:8080/",
          "height": 301
        },
        "outputId": "bd3fb66e-b151-4f11-dc52-653d6c2cde83"
      },
      "source": [
        "cfd.tabulate(samples=modals)"
      ],
      "execution_count": 24,
      "outputs": [
        {
          "output_type": "stream",
          "text": [
            "                  can could   may might  must  will \n",
            "      adventure    46   151     5    58    27    50 \n",
            " belles_lettres   246   213   207   113   170   236 \n",
            "      editorial   121    56    74    39    53   233 \n",
            "        fiction    37   166     8    44    55    52 \n",
            "     government   117    38   153    13   102   244 \n",
            "        hobbies   268    58   131    22    83   264 \n",
            "          humor    16    30     8     8     9    13 \n",
            "        learned   365   159   324   128   202   340 \n",
            "           lore   170   141   165    49    96   175 \n",
            "        mystery    42   141    13    57    30    20 \n",
            "           news    93    86    66    38    50   389 \n",
            "       religion    82    59    78    12    54    71 \n",
            "        reviews    45    40    45    26    19    58 \n",
            "        romance    74   193    11    51    45    43 \n",
            "science_fiction    16    49     4    12     8    16 \n"
          ],
          "name": "stdout"
        }
      ]
    },
    {
      "cell_type": "code",
      "metadata": {
        "id": "eScUWUC9ursE",
        "colab_type": "code",
        "colab": {}
      },
      "source": [
        "import re\n",
        "years = [re.findall('[0-9]+', x) for x in inaugural.fileids()]"
      ],
      "execution_count": 0,
      "outputs": []
    },
    {
      "cell_type": "code",
      "metadata": {
        "id": "vjgdoLYMyoM4",
        "colab_type": "code",
        "colab": {}
      },
      "source": [
        "cfd = nltk.ConditionalFreqDist(\n",
        "    (target, fileid[:4])\n",
        "    for fileid in state_union.fileids()\n",
        "    for w in state_union.words(fileid)\n",
        "    for target in ['men', 'women', 'people']\n",
        "    if w.lower() == target)\n"
      ],
      "execution_count": 0,
      "outputs": []
    },
    {
      "cell_type": "code",
      "metadata": {
        "id": "6zE9WNBsythO",
        "colab_type": "code",
        "colab": {
          "base_uri": "https://localhost:8080/",
          "height": 108
        },
        "outputId": "0d6c458f-12e0-4932-a632-371077f2d1f7"
      },
      "source": [
        "cfd.tabulate()"
      ],
      "execution_count": 45,
      "outputs": [
        {
          "output_type": "stream",
          "text": [
            "       1945 1946 1947 1948 1949 1950 1951 1953 1954 1955 1956 1957 1958 1959 1960 1961 1962 1963 1964 1965 1966 1967 1968 1969 1970 1971 1972 1973 1974 1975 1976 1977 1978 1979 1980 1981 1982 1983 1984 1985 1986 1987 1988 1989 1990 1991 1992 1993 1994 1995 1996 1997 1998 1999 2000 2001 2002 2003 2004 2005 2006 \n",
            "   men    2   12    7    5    2    6    8    3    2    4    2    5    2    4    2    6    6    8    3   19   12   11    4    5    2    1    1    1    0    0    3    2    0    0    1    1    1    3    3    1    2    1    1    2    3    9    4    1    1    1    2    1    2    2    5    4    3    6    7    8    7 \n",
            "people   10   49   12   22   15   15   10   17   15   26   30   11   19   11   10   10   10   15    3   30   35   25   17    6   23   32    7    9   20   14   18   19   26   15   12   11   17   19   27   12   14   24   17   13    9   27   27   45   66   73   43   31   22   22   41   27   14   33   21   18   22 \n",
            " women    2    7    2    1    1    2    2    0    0    0    2    2    1    1    0    0    2    5    1    3    1    1    0    2    0    0    0    0    0    0    1    1    1    1    2    1    2    7    5    1    2    0    0    3    2    9    4    2    1    3    3    2    2    3    7    6    6    4    8   11    7 \n"
          ],
          "name": "stdout"
        }
      ]
    },
    {
      "cell_type": "code",
      "metadata": {
        "id": "r5RAX_LOzMkl",
        "colab_type": "code",
        "colab": {}
      },
      "source": [
        ""
      ],
      "execution_count": 0,
      "outputs": []
    }
  ]
}