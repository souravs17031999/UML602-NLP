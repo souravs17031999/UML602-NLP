{
  "nbformat": 4,
  "nbformat_minor": 0,
  "metadata": {
    "kernelspec": {
      "display_name": "Python 3",
      "language": "python",
      "name": "python3"
    },
    "language_info": {
      "codemirror_mode": {
        "name": "ipython",
        "version": 3
      },
      "file_extension": ".py",
      "mimetype": "text/x-python",
      "name": "python",
      "nbconvert_exporter": "python",
      "pygments_lexer": "ipython3",
      "version": "3.6.8"
    },
    "colab": {
      "name": "nlp1.ipynb",
      "provenance": []
    }
  },
  "cells": [
    {
      "cell_type": "markdown",
      "metadata": {
        "id": "rRtXZ8LH-_jO",
        "colab_type": "text"
      },
      "source": [
        "# assignment - I"
      ]
    },
    {
      "cell_type": "code",
      "metadata": {
        "id": "aul_Vivb-_jS",
        "colab_type": "code",
        "colab": {}
      },
      "source": [
        "import nltk"
      ],
      "execution_count": 0,
      "outputs": []
    },
    {
      "cell_type": "code",
      "metadata": {
        "id": "TDfdIII5-_jb",
        "colab_type": "code",
        "colab": {
          "base_uri": "https://localhost:8080/",
          "height": 1000
        },
        "outputId": "eb454050-5341-4e8f-d794-43c16b22fe1a"
      },
      "source": [
        "nltk.download()\n",
        "from nltk.corpus import stopwords"
      ],
      "execution_count": 2,
      "outputs": [
        {
          "output_type": "stream",
          "text": [
            "NLTK Downloader\n",
            "---------------------------------------------------------------------------\n",
            "    d) Download   l) List    u) Update   c) Config   h) Help   q) Quit\n",
            "---------------------------------------------------------------------------\n",
            "Downloader> d\n",
            "\n",
            "Download which package (l=list; x=cancel)?\n",
            "  Identifier> book\n",
            "    Downloading collection 'book'\n",
            "       | \n",
            "       | Downloading package abc to /root/nltk_data...\n",
            "       |   Unzipping corpora/abc.zip.\n",
            "       | Downloading package brown to /root/nltk_data...\n",
            "       |   Unzipping corpora/brown.zip.\n",
            "       | Downloading package chat80 to /root/nltk_data...\n",
            "       |   Unzipping corpora/chat80.zip.\n",
            "       | Downloading package cmudict to /root/nltk_data...\n",
            "       |   Unzipping corpora/cmudict.zip.\n",
            "       | Downloading package conll2000 to /root/nltk_data...\n",
            "       |   Unzipping corpora/conll2000.zip.\n",
            "       | Downloading package conll2002 to /root/nltk_data...\n",
            "       |   Unzipping corpora/conll2002.zip.\n",
            "       | Downloading package dependency_treebank to /root/nltk_data...\n",
            "       |   Unzipping corpora/dependency_treebank.zip.\n",
            "       | Downloading package genesis to /root/nltk_data...\n",
            "       |   Unzipping corpora/genesis.zip.\n",
            "       | Downloading package gutenberg to /root/nltk_data...\n",
            "       |   Unzipping corpora/gutenberg.zip.\n",
            "       | Downloading package ieer to /root/nltk_data...\n",
            "       |   Unzipping corpora/ieer.zip.\n",
            "       | Downloading package inaugural to /root/nltk_data...\n",
            "       |   Unzipping corpora/inaugural.zip.\n",
            "       | Downloading package movie_reviews to /root/nltk_data...\n",
            "       |   Unzipping corpora/movie_reviews.zip.\n",
            "       | Downloading package nps_chat to /root/nltk_data...\n",
            "       |   Unzipping corpora/nps_chat.zip.\n",
            "       | Downloading package names to /root/nltk_data...\n",
            "       |   Unzipping corpora/names.zip.\n",
            "       | Downloading package ppattach to /root/nltk_data...\n",
            "       |   Unzipping corpora/ppattach.zip.\n",
            "       | Downloading package reuters to /root/nltk_data...\n",
            "       | Downloading package senseval to /root/nltk_data...\n",
            "       |   Unzipping corpora/senseval.zip.\n",
            "       | Downloading package state_union to /root/nltk_data...\n",
            "       |   Unzipping corpora/state_union.zip.\n",
            "       | Downloading package stopwords to /root/nltk_data...\n",
            "       |   Unzipping corpora/stopwords.zip.\n",
            "       | Downloading package swadesh to /root/nltk_data...\n",
            "       |   Unzipping corpora/swadesh.zip.\n",
            "       | Downloading package timit to /root/nltk_data...\n",
            "       |   Unzipping corpora/timit.zip.\n",
            "       | Downloading package treebank to /root/nltk_data...\n",
            "       |   Unzipping corpora/treebank.zip.\n",
            "       | Downloading package toolbox to /root/nltk_data...\n",
            "       |   Unzipping corpora/toolbox.zip.\n",
            "       | Downloading package udhr to /root/nltk_data...\n",
            "       |   Unzipping corpora/udhr.zip.\n",
            "       | Downloading package udhr2 to /root/nltk_data...\n",
            "       |   Unzipping corpora/udhr2.zip.\n",
            "       | Downloading package unicode_samples to /root/nltk_data...\n",
            "       |   Unzipping corpora/unicode_samples.zip.\n",
            "       | Downloading package webtext to /root/nltk_data...\n",
            "       |   Unzipping corpora/webtext.zip.\n",
            "       | Downloading package wordnet to /root/nltk_data...\n",
            "       |   Unzipping corpora/wordnet.zip.\n",
            "       | Downloading package wordnet_ic to /root/nltk_data...\n",
            "       |   Unzipping corpora/wordnet_ic.zip.\n",
            "       | Downloading package words to /root/nltk_data...\n",
            "       |   Unzipping corpora/words.zip.\n",
            "       | Downloading package maxent_treebank_pos_tagger to\n",
            "       |     /root/nltk_data...\n",
            "       |   Unzipping taggers/maxent_treebank_pos_tagger.zip.\n",
            "       | Downloading package maxent_ne_chunker to /root/nltk_data...\n",
            "       |   Unzipping chunkers/maxent_ne_chunker.zip.\n",
            "       | Downloading package universal_tagset to /root/nltk_data...\n",
            "       |   Unzipping taggers/universal_tagset.zip.\n",
            "       | Downloading package punkt to /root/nltk_data...\n",
            "       |   Unzipping tokenizers/punkt.zip.\n",
            "       | Downloading package book_grammars to /root/nltk_data...\n",
            "       |   Unzipping grammars/book_grammars.zip.\n",
            "       | Downloading package city_database to /root/nltk_data...\n",
            "       |   Unzipping corpora/city_database.zip.\n",
            "       | Downloading package tagsets to /root/nltk_data...\n",
            "       |   Unzipping help/tagsets.zip.\n",
            "       | Downloading package panlex_swadesh to /root/nltk_data...\n",
            "       | Downloading package averaged_perceptron_tagger to\n",
            "       |     /root/nltk_data...\n",
            "       |   Unzipping taggers/averaged_perceptron_tagger.zip.\n",
            "       | \n",
            "     Done downloading collection book\n",
            "\n",
            "---------------------------------------------------------------------------\n",
            "    d) Download   l) List    u) Update   c) Config   h) Help   q) Quit\n",
            "---------------------------------------------------------------------------\n",
            "Downloader> q\n"
          ],
          "name": "stdout"
        }
      ]
    },
    {
      "cell_type": "code",
      "metadata": {
        "scrolled": false,
        "id": "1X-ITDKE-_jf",
        "colab_type": "code",
        "colab": {
          "base_uri": "https://localhost:8080/",
          "height": 248
        },
        "outputId": "246814d1-ae6e-43b6-a5fb-d08bb5708b89"
      },
      "source": [
        "from nltk.book import *"
      ],
      "execution_count": 3,
      "outputs": [
        {
          "output_type": "stream",
          "text": [
            "*** Introductory Examples for the NLTK Book ***\n",
            "Loading text1, ..., text9 and sent1, ..., sent9\n",
            "Type the name of the text or sentence to view it.\n",
            "Type: 'texts()' or 'sents()' to list the materials.\n",
            "text1: Moby Dick by Herman Melville 1851\n",
            "text2: Sense and Sensibility by Jane Austen 1811\n",
            "text3: The Book of Genesis\n",
            "text4: Inaugural Address Corpus\n",
            "text5: Chat Corpus\n",
            "text6: Monty Python and the Holy Grail\n",
            "text7: Wall Street Journal\n",
            "text8: Personals Corpus\n",
            "text9: The Man Who Was Thursday by G . K . Chesterton 1908\n"
          ],
          "name": "stdout"
        }
      ]
    },
    {
      "cell_type": "markdown",
      "metadata": {
        "id": "H-IDHT8x-_ji",
        "colab_type": "text"
      },
      "source": [
        "# q1"
      ]
    },
    {
      "cell_type": "code",
      "metadata": {
        "id": "Fp54eG53-_jk",
        "colab_type": "code",
        "colab": {}
      },
      "source": [
        "from nltk.tokenize import word_tokenize"
      ],
      "execution_count": 0,
      "outputs": []
    },
    {
      "cell_type": "code",
      "metadata": {
        "scrolled": true,
        "id": "pR9NgVlo-_js",
        "colab_type": "code",
        "colab": {
          "base_uri": "https://localhost:8080/",
          "height": 106
        },
        "outputId": "8f25accd-ba74-4f01-f620-cf642d1cd90c"
      },
      "source": [
        "print(text5.collocations())"
      ],
      "execution_count": 5,
      "outputs": [
        {
          "output_type": "stream",
          "text": [
            "wanna chat; PART JOIN; MODE #14-19teens; JOIN PART; PART PART;\n",
            "cute.-ass MP3; MP3 player; JOIN JOIN; times .. .; ACTION watches; guys\n",
            "wanna; song lasts; last night; ACTION sits; -...)...- S.M.R.; Lime\n",
            "Player; Player 12%; dont know; lez gurls; long time\n",
            "None\n"
          ],
          "name": "stdout"
        }
      ]
    },
    {
      "cell_type": "code",
      "metadata": {
        "id": "xXfL6MUY-_jw",
        "colab_type": "code",
        "colab": {}
      },
      "source": [
        "stop_words = stopwords.words('english')"
      ],
      "execution_count": 0,
      "outputs": []
    },
    {
      "cell_type": "markdown",
      "metadata": {
        "id": "Kn7vh9Yn-_j5",
        "colab_type": "text"
      },
      "source": [
        "# q2"
      ]
    },
    {
      "cell_type": "code",
      "metadata": {
        "id": "4ussIuSR-_j7",
        "colab_type": "code",
        "colab": {}
      },
      "source": [
        "my_sent_list = text5[:10]"
      ],
      "execution_count": 0,
      "outputs": []
    },
    {
      "cell_type": "code",
      "metadata": {
        "id": "9s1-N09k-_kA",
        "colab_type": "code",
        "colab": {}
      },
      "source": [
        "my_sent_string = \" \".join(my_sent_list)"
      ],
      "execution_count": 0,
      "outputs": []
    },
    {
      "cell_type": "code",
      "metadata": {
        "id": "PVeBTRBA-_kD",
        "colab_type": "code",
        "colab": {}
      },
      "source": [
        "my_sent_list = my_sent_string.split()"
      ],
      "execution_count": 0,
      "outputs": []
    },
    {
      "cell_type": "code",
      "metadata": {
        "scrolled": true,
        "id": "fULihCEE-_kN",
        "colab_type": "code",
        "colab": {
          "base_uri": "https://localhost:8080/",
          "height": 35
        },
        "outputId": "3f3281b9-0d3a-4a1d-8eb6-4e32647e4076"
      },
      "source": [
        "my_sent_list"
      ],
      "execution_count": 12,
      "outputs": [
        {
          "output_type": "execute_result",
          "data": {
            "text/plain": [
              "['now', 'im', 'left', 'with', 'this', 'gay', 'name', ':P', 'PART', 'hey']"
            ]
          },
          "metadata": {
            "tags": []
          },
          "execution_count": 12
        }
      ]
    },
    {
      "cell_type": "markdown",
      "metadata": {
        "id": "zCGvWFe--_kR",
        "colab_type": "text"
      },
      "source": [
        "# q3"
      ]
    },
    {
      "cell_type": "code",
      "metadata": {
        "id": "_V870G3h-_kR",
        "colab_type": "code",
        "colab": {
          "base_uri": "https://localhost:8080/",
          "height": 35
        },
        "outputId": "8d0d6031-066e-44e7-ed1c-03ca2edc84b7"
      },
      "source": [
        "text9.index('sunset')"
      ],
      "execution_count": 13,
      "outputs": [
        {
          "output_type": "execute_result",
          "data": {
            "text/plain": [
              "629"
            ]
          },
          "metadata": {
            "tags": []
          },
          "execution_count": 13
        }
      ]
    },
    {
      "cell_type": "markdown",
      "metadata": {
        "id": "bqDVa6mz-_kb",
        "colab_type": "text"
      },
      "source": [
        "# q4"
      ]
    },
    {
      "cell_type": "code",
      "metadata": {
        "id": "tTxyxkq4-_kd",
        "colab_type": "code",
        "colab": {
          "base_uri": "https://localhost:8080/",
          "height": 159
        },
        "outputId": "63235b66-61f3-4ded-a7d6-54c893cc1d55"
      },
      "source": [
        "print(f'Vocab size of sent1 : {len(sent1)}')\n",
        "print(f'Vocab size of sent2 : {len(sent2)}')\n",
        "print(f'Vocab size of sent3 : {len(sent3)}')\n",
        "print(f'Vocab size of sent4 : {len(sent4)}')\n",
        "print(f'Vocab size of sent5 : {len(sent5)}')\n",
        "print(f'Vocab size of sent6 : {len(sent6)}')\n",
        "print(f'Vocab size of sent7 : {len(sent7)}')\n",
        "print(f'Vocab size of sent8 : {len(sent8)}')"
      ],
      "execution_count": 21,
      "outputs": [
        {
          "output_type": "stream",
          "text": [
            "Vocab size of sent1 : 4\n",
            "Vocab size of sent2 : 11\n",
            "Vocab size of sent3 : 11\n",
            "Vocab size of sent4 : 13\n",
            "Vocab size of sent5 : 11\n",
            "Vocab size of sent6 : 17\n",
            "Vocab size of sent7 : 18\n",
            "Vocab size of sent8 : 14\n"
          ],
          "name": "stdout"
        }
      ]
    },
    {
      "cell_type": "markdown",
      "metadata": {
        "id": "5pKCBEvW_r5M",
        "colab_type": "text"
      },
      "source": [
        "##q5"
      ]
    },
    {
      "cell_type": "code",
      "metadata": {
        "id": "Sn4qJlf-_l-x",
        "colab_type": "code",
        "colab": {
          "base_uri": "https://localhost:8080/",
          "height": 35
        },
        "outputId": "a9a77852-39ce-439a-df9a-2b2f3b2a4b94"
      },
      "source": [
        "len(sorted(set([w.lower() for w in text1])))"
      ],
      "execution_count": 16,
      "outputs": [
        {
          "output_type": "execute_result",
          "data": {
            "text/plain": [
              "17231"
            ]
          },
          "metadata": {
            "tags": []
          },
          "execution_count": 16
        }
      ]
    },
    {
      "cell_type": "code",
      "metadata": {
        "id": "-cMO0iOo_-l2",
        "colab_type": "code",
        "colab": {
          "base_uri": "https://localhost:8080/",
          "height": 35
        },
        "outputId": "5f6eb96c-04be-482f-9a6a-b3d1f58faa71"
      },
      "source": [
        "len(sorted([w.lower() for w in set(text1)]))"
      ],
      "execution_count": 18,
      "outputs": [
        {
          "output_type": "execute_result",
          "data": {
            "text/plain": [
              "19317"
            ]
          },
          "metadata": {
            "tags": []
          },
          "execution_count": 18
        }
      ]
    },
    {
      "cell_type": "code",
      "metadata": {
        "id": "ox5UY3JhAUNR",
        "colab_type": "code",
        "colab": {
          "base_uri": "https://localhost:8080/",
          "height": 52
        },
        "outputId": "da383ae2-89c5-45d9-83fd-277ec5836fb6"
      },
      "source": [
        "inner_set = [w.lower() for w in set(sent9)]\n",
        "outer_set = set([w.lower() for w in sent9])\n",
        "\n",
        "print(f'length containing inner set : {len(inner_set)}')\n",
        "print(f'length containing outer set : {len(outer_set)}')"
      ],
      "execution_count": 23,
      "outputs": [
        {
          "output_type": "stream",
          "text": [
            "length containing inner set : 19\n",
            "length containing outer set : 18\n"
          ],
          "name": "stdout"
        }
      ]
    },
    {
      "cell_type": "markdown",
      "metadata": {
        "id": "cw3c8T_ZFiXw",
        "colab_type": "text"
      },
      "source": [
        "### The difference in above methods is that in case of inner set, we are only focusing on duplicacy before lowering the case so, like \"THE\" -> \"the\" and suppose already \"the\" occurs previosuly existed, so duplicacy of some words will remain there whereas in case of outer one, we are using set after the lowering of case , which means removing duplicacy after case lowered, thus no duplicacy possible in this case."
      ]
    },
    {
      "cell_type": "markdown",
      "metadata": {
        "id": "qQbFMPqNF-No",
        "colab_type": "text"
      },
      "source": [
        "## q6"
      ]
    },
    {
      "cell_type": "code",
      "metadata": {
        "id": "dt_FQDTiF9ny",
        "colab_type": "code",
        "colab": {
          "base_uri": "https://localhost:8080/",
          "height": 35
        },
        "outputId": "0a1f2c57-62da-40a1-a189-c3d9bba984f0"
      },
      "source": [
        "print(text2[-2:])"
      ],
      "execution_count": 24,
      "outputs": [
        {
          "output_type": "stream",
          "text": [
            "['THE', 'END']\n"
          ],
          "name": "stdout"
        }
      ]
    },
    {
      "cell_type": "markdown",
      "metadata": {
        "id": "NpYjCvB9Gak4",
        "colab_type": "text"
      },
      "source": [
        "q7"
      ]
    },
    {
      "cell_type": "code",
      "metadata": {
        "id": "bd_2Xwf0GY9s",
        "colab_type": "code",
        "colab": {}
      },
      "source": [
        "temp_words = [w for w in text5 if len(w) == 4]"
      ],
      "execution_count": 0,
      "outputs": []
    },
    {
      "cell_type": "code",
      "metadata": {
        "id": "T12CHbhxJ3-E",
        "colab_type": "code",
        "colab": {}
      },
      "source": [
        "fdist = FreqDist(temp_words)"
      ],
      "execution_count": 0,
      "outputs": []
    },
    {
      "cell_type": "code",
      "metadata": {
        "id": "NEQCQIO1M_5T",
        "colab_type": "code",
        "colab": {
          "base_uri": "https://localhost:8080/",
          "height": 52
        },
        "outputId": "dade4d9f-302d-4f3c-a78f-b4584d08b678"
      },
      "source": [
        "import matplotlib.pyplot as plt\n",
        "plt.figure(figsize=(50, 50))  # the size you want"
      ],
      "execution_count": 54,
      "outputs": [
        {
          "output_type": "execute_result",
          "data": {
            "text/plain": [
              "<Figure size 3600x3600 with 0 Axes>"
            ]
          },
          "metadata": {
            "tags": []
          },
          "execution_count": 54
        },
        {
          "output_type": "display_data",
          "data": {
            "text/plain": [
              "<Figure size 3600x3600 with 0 Axes>"
            ]
          },
          "metadata": {
            "tags": []
          }
        }
      ]
    },
    {
      "cell_type": "code",
      "metadata": {
        "id": "i_AJs5LFKWkG",
        "colab_type": "code",
        "colab": {
          "base_uri": "https://localhost:8080/",
          "height": 295
        },
        "outputId": "0753c434-0613-4616-db2f-b197134828d9"
      },
      "source": [
        "fdist.plot(10,cumulative=True)"
      ],
      "execution_count": 59,
      "outputs": [
        {
          "output_type": "display_data",
          "data": {
            "image/png": "[encoded data removed]",
            "text/plain": [
              "<Figure size 432x288 with 1 Axes>"
            ]
          },
          "metadata": {
            "tags": []
          }
        }
      ]
    },
    {
      "cell_type": "markdown",
      "metadata": {
        "id": "lnlUvk4fN8O8",
        "colab_type": "text"
      },
      "source": [
        "## q8"
      ]
    },
    {
      "cell_type": "code",
      "metadata": {
        "id": "zcgF2Z-iN-Ud",
        "colab_type": "code",
        "colab": {}
      },
      "source": [
        "for i in text6:\n",
        "  if i.isupper():\n",
        "    print(i)"
      ],
      "execution_count": 0,
      "outputs": []
    },
    {
      "cell_type": "markdown",
      "metadata": {
        "id": "wz9EBFvTOQHK",
        "colab_type": "text"
      },
      "source": [
        "## q9"
      ]
    },
    {
      "cell_type": "markdown",
      "metadata": {
        "id": "7dWl2Sb6SR1q",
        "colab_type": "text"
      },
      "source": [
        "### use regex"
      ]
    },
    {
      "cell_type": "markdown",
      "metadata": {
        "id": "nwdprW-jSU4v",
        "colab_type": "text"
      },
      "source": [
        "## q10"
      ]
    },
    {
      "cell_type": "code",
      "metadata": {
        "id": "-nzhz2noOPgU",
        "colab_type": "code",
        "colab": {}
      },
      "source": [
        "sent =  ['she', 'sells', 'sea', 'shells', 'by', 'the', 'sea', 'shore']"
      ],
      "execution_count": 0,
      "outputs": []
    },
    {
      "cell_type": "code",
      "metadata": {
        "id": "4Nv1wea_SDpU",
        "colab_type": "code",
        "colab": {
          "base_uri": "https://localhost:8080/",
          "height": 70
        },
        "outputId": "672ba4bf-9494-4a0a-d9b9-79e835369fd3"
      },
      "source": [
        "for i in sent:\n",
        "  if i[:2] == 'sh':\n",
        "    print(i)"
      ],
      "execution_count": 69,
      "outputs": [
        {
          "output_type": "stream",
          "text": [
            "she\n",
            "shells\n",
            "shore\n"
          ],
          "name": "stdout"
        }
      ]
    },
    {
      "cell_type": "code",
      "metadata": {
        "id": "0GMbcaA-SrLf",
        "colab_type": "code",
        "colab": {
          "base_uri": "https://localhost:8080/",
          "height": 70
        },
        "outputId": "eb2f2a8f-e759-4ab8-c2bd-ddbe2e85bbe5"
      },
      "source": [
        "for i in sent:\n",
        "  if len(i) > 4:\n",
        "    print(i)"
      ],
      "execution_count": 70,
      "outputs": [
        {
          "output_type": "stream",
          "text": [
            "sells\n",
            "shells\n",
            "shore\n"
          ],
          "name": "stdout"
        }
      ]
    },
    {
      "cell_type": "markdown",
      "metadata": {
        "id": "z-K9SaUbSzIO",
        "colab_type": "text"
      },
      "source": [
        "### q11"
      ]
    },
    {
      "cell_type": "code",
      "metadata": {
        "id": "ekjqI5zySxbP",
        "colab_type": "code",
        "colab": {
          "base_uri": "https://localhost:8080/",
          "height": 35
        },
        "outputId": "364634c5-2b2e-4dc7-d954-6fdaee4ba9d2"
      },
      "source": [
        "sum([len(w) for w in text1])"
      ],
      "execution_count": 71,
      "outputs": [
        {
          "output_type": "execute_result",
          "data": {
            "text/plain": [
              "999044"
            ]
          },
          "metadata": {
            "tags": []
          },
          "execution_count": 71
        }
      ]
    },
    {
      "cell_type": "markdown",
      "metadata": {
        "id": "Pi3Mzc8ATB3r",
        "colab_type": "text"
      },
      "source": [
        "### q12"
      ]
    },
    {
      "cell_type": "code",
      "metadata": {
        "id": "jlb69EseTDHO",
        "colab_type": "code",
        "colab": {}
      },
      "source": [
        "def vocab_size(text):\n",
        "  return len(text)"
      ],
      "execution_count": 0,
      "outputs": []
    },
    {
      "cell_type": "markdown",
      "metadata": {
        "id": "U2WPkyshTUyh",
        "colab_type": "text"
      },
      "source": [
        "### q13"
      ]
    },
    {
      "cell_type": "code",
      "metadata": {
        "id": "RPF-pX4rTV9z",
        "colab_type": "code",
        "colab": {}
      },
      "source": [
        "def function_percent(word, text):\n",
        "  "
      ],
      "execution_count": 0,
      "outputs": []
    }
  ]
}